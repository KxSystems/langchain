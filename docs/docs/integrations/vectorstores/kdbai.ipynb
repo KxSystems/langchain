{
 "cells": [
  {
   "cell_type": "markdown",
   "id": "e382da3d",
   "metadata": {},
   "source": [
    "# KDB.AI\n",
    "\n",
    "> [KDB.AI](https://kdb.ai/) is a powerful knowledge-based vector database and search engine that allows you to build scalable, reliable AI applications, using real-time data, by providing advanced search, recommendation and personalization.\n",
    "\n",
    "[This example](https://github.com/KxSystems/kdbai-samples/blob/main/document_search/document_search.ipynb) demonstrates how to use KDB.AI to run semantic search on unstructured text documents.\n",
    "\n",
    "To access your end point and API keys, sign up to KDB.AI [here](https://kdb.ai/get-started/).\n",
    "\n",
    "To set up your development environment, follow the instructions on the [KDB.AI pre-requisites page](https://code.kx.com/kdbai/pre-requisites.html).\n",
    "\n",
    "The following examples demonstrate some of the ways you can interact with KDB.AI through LangChain.\n",
    "\n",
    "## Import required packages"
   ]
  },
  {
   "cell_type": "code",
   "execution_count": 1,
   "id": "2704194d-c42d-463d-b162-fb95262e052c",
   "metadata": {},
   "outputs": [],
   "source": [
    "from getpass import getpass\n",
    "import os\n",
    "import time\n",
    "\n",
    "import pandas as pd\n",
    "import requests\n",
    "\n",
    "import kdbai_client as kdbai\n",
    "\n",
    "from langchain.chains import RetrievalQA\n",
    "from langchain_community.chat_models import ChatOpenAI\n",
    "from langchain_community.document_loaders import PyPDFLoader\n",
    "from langchain_community.embeddings import OpenAIEmbeddings\n",
    "from langchain_community.vectorstores import KDBAI"
   ]
  },
  {
   "cell_type": "code",
   "execution_count": 2,
   "id": "04848fcf-e128-4d63-af6c-b3991531d62e",
   "metadata": {},
   "outputs": [
    {
     "name": "stdout",
     "output_type": "stream",
     "text": [
      "KDB.AI endpoint:  https://ui.qa.cld.kx.com/instance/4eaejaib7q\n",
      "KDB.AI API key:  ········\n",
      "OpenAI API Key:  ········\n"
     ]
    }
   ],
   "source": [
    "KDBAI_ENDPOINT = input('KDB.AI endpoint: ')\n",
    "KDBAI_API_KEY = getpass('KDB.AI API key: ')\n",
    "os.environ['OPENAI_API_KEY'] = getpass('OpenAI API Key: ')"
   ]
  },
  {
   "cell_type": "code",
   "execution_count": 3,
   "id": "d08a1468-6bff-4a65-8b4a-9835cfa997ad",
   "metadata": {},
   "outputs": [],
   "source": [
    "TEMP = 0.0\n",
    "K = 3"
   ]
  },
  {
   "cell_type": "markdown",
   "id": "64de692d",
   "metadata": {},
   "source": [
    "## Create a KBD.AI Session"
   ]
  },
  {
   "cell_type": "code",
   "execution_count": null,
   "id": "9ffe4fee-2dc3-4943-917b-28adc3a69472",
   "metadata": {},
   "outputs": [
    {
     "name": "stdout",
     "output_type": "stream",
     "text": [
      "Create KDB.AI session...\n"
     ]
    }
   ],
   "source": [
    "print('Create a KDB.AI session...')\n",
    "session = kdbai.Session(endpoint=KDBAI_ENDPOINT, api_key=KDBAI_API_KEY)"
   ]
  },
  {
   "cell_type": "markdown",
   "id": "5536b09f",
   "metadata": {},
   "source": [
    "## Create a table"
   ]
  },
  {
   "cell_type": "code",
   "execution_count": 5,
   "id": "da27f31c-890e-46c0-8e01-1b8474ee3a70",
   "metadata": {},
   "outputs": [
    {
     "name": "stdout",
     "output_type": "stream",
     "text": [
      "Create table \"documents\"...\n"
     ]
    }
   ],
   "source": [
    "print('Create table \"documents\"...')\n",
    "schema = {'columns': [{'name': 'id', 'pytype': 'str'},\n",
    "                      {'name': 'text', 'pytype': 'bytes'},\n",
    "                      {'name': 'embeddings',\n",
    "                               'pytype': 'float32',\n",
    "                               'vectorIndex': {'dims': 1536, 'metric': 'L2', 'type': 'hnsw'}},\n",
    "                      {'name': 'tag', 'pytype': 'str'},\n",
    "                      {'name': 'title', 'pytype': 'bytes'}]}\n",
    "table = session.create_table('documents', schema)"
   ]
  },
  {
   "cell_type": "code",
   "execution_count": 6,
   "id": "930ba64a-1cf9-4892-9335-8745c830497c",
   "metadata": {},
   "outputs": [
    {
     "name": "stdout",
     "output_type": "stream",
     "text": [
      "CPU times: user 44.2 ms, sys: 6.71 ms, total: 50.9 ms\n",
      "Wall time: 233 ms\n"
     ]
    },
    {
     "data": {
      "text/plain": [
       "562978"
      ]
     },
     "execution_count": 6,
     "metadata": {},
     "output_type": "execute_result"
    }
   ],
   "source": [
    "%%time\n",
    "URL = 'https://www.conseil-constitutionnel.fr/node/3850/pdf'\n",
    "PDF = 'Déclaration_des_droits_de_l_homme_et_du_citoyen.pdf'\n",
    "open(PDF, 'wb').write(requests.get(URL).content)"
   ]
  },
  {
   "cell_type": "markdown",
   "id": "f2bf15a1",
   "metadata": {},
   "source": [
    "## Read a PDF"
   ]
  },
  {
   "cell_type": "code",
   "execution_count": 7,
   "id": "00873e6b-f204-4dca-b82b-1c45d0b83ee5",
   "metadata": {},
   "outputs": [
    {
     "name": "stdout",
     "output_type": "stream",
     "text": [
      "Read PDF...\n",
      "CPU times: user 110 ms, sys: 9.14 ms, total: 119 ms\n",
      "Wall time: 118 ms\n"
     ]
    },
    {
     "data": {
      "text/plain": [
       "3"
      ]
     },
     "execution_count": 7,
     "metadata": {},
     "output_type": "execute_result"
    }
   ],
   "source": [
    "%%time\n",
    "print('Read a PDF...')\n",
    "loader = PyPDFLoader(PDF)\n",
    "pages = loader.load_and_split()\n",
    "len(pages)"
   ]
  },
  {
   "cell_type": "markdown",
   "id": "bba927cd",
   "metadata": {},
   "source": [
    "## Create a Vector Database from PDF Text"
   ]
  },
  {
   "cell_type": "code",
   "execution_count": 1,
   "id": "b06d4a96-c3d5-426b-9e22-12925b14e5e6",
   "metadata": {},
   "outputs": [
    {
     "name": "stdout",
     "output_type": "stream",
     "text": [
      "Create a Vector Database from PDF Text...\n"
     ]
    },
    {
     "ename": "NameError",
     "evalue": "name 'OpenAIEmbeddings' is not defined",
     "output_type": "error",
     "traceback": [
      "\u001b[1;31m---------------------------------------------------------------------------\u001b[0m",
      "\u001b[1;31mNameError\u001b[0m                                 Traceback (most recent call last)",
      "File \u001b[1;32m<timed exec>:2\u001b[0m\n",
      "\u001b[1;31mNameError\u001b[0m: name 'OpenAIEmbeddings' is not defined"
     ]
    }
   ],
   "source": [
    "%%time\n",
    "print('Create a Vector Database from PDF Text...')\n",
    "embeddings = OpenAIEmbeddings(model='text-embedding-ada-002')\n",
    "texts = [p.page_content for p in pages]\n",
    "metadata = pd.DataFrame(index=list(range(len(texts))))\n",
    "metadata['tag'] = 'law'\n",
    "metadata['title'] = 'Déclaration des Droits de l\\'Homme et du Citoyen de 1789'.encode('utf-8')\n",
    "vectordb = KDBAI(table, embeddings)\n",
    "vectordb.add_texts(texts=texts, metadatas=metadata)"
   ]
  },
  {
   "cell_type": "markdown",
   "id": "55f95478",
   "metadata": {},
   "source": [
    "## Create LangChain Pipeline"
   ]
  },
  {
   "cell_type": "code",
   "execution_count": null,
   "id": "6d848577-1192-4bb0-b721-37f52be5d9d0",
   "metadata": {},
   "outputs": [
    {
     "name": "stdout",
     "output_type": "stream",
     "text": [
      "Create LangChain pipeline...\n",
      "CPU times: user 1.32 ms, sys: 62 µs, total: 1.38 ms\n",
      "Wall time: 1.36 ms\n"
     ]
    }
   ],
   "source": [
    "%%time\n",
    "print('Create LangChain Pipeline...')\n",
    "qabot = RetrievalQA.from_chain_type(chain_type='stuff',\n",
    "                                    llm=ChatOpenAI(model='gpt-3.5-turbo-16k', temperature=TEMP), \n",
    "                                    retriever=vectordb.as_retriever(search_kwargs=dict(k=K)),\n",
    "                                    return_source_documents=True)"
   ]
  },
  {
   "cell_type": "markdown",
   "id": "d873722a",
   "metadata": {},
   "source": [
    "## Summarize the document in English"
   ]
  },
  {
   "cell_type": "code",
   "execution_count": null,
   "id": "81668f8f-a416-4b58-93d2-8e0924ceca23",
   "metadata": {},
   "outputs": [
    {
     "name": "stdout",
     "output_type": "stream",
     "text": [
      "\n",
      "\n",
      "Summarize the document in English:\n",
      "\n",
      "The document is the Declaration of the Rights of Man and of the Citizen of 1789. It was written by the representatives of the French people and aims to declare the natural, inalienable, and sacred rights of all individuals. These rights include freedom, property, security, and resistance to oppression. The document emphasizes that all individuals are born and remain free and equal in rights, and that social distinctions should only be based on the common good. It also states that sovereignty resides in the nation and that no one can exercise authority without explicit authorization. The document highlights the importance of law in protecting individual rights and states that the law should only prohibit actions that are harmful to society. It also emphasizes the principle of equality before the law and the right of all citizens to participate in its formation. The document further establishes the rights of individuals in relation to arrest and detention, stating that no one can be accused, arrested, or detained except in cases determined by law and according to prescribed procedures. It also emphasizes the need for punishments to be strictly necessary and established by law.\n",
      "CPU times: user 65.2 ms, sys: 6.74 ms, total: 71.9 ms\n",
      "Wall time: 7.65 s\n"
     ]
    }
   ],
   "source": [
    "%%time\n",
    "Q = 'Summarize the document in English:'\n",
    "print(f'\\n\\n{Q}\\n')\n",
    "print(qabot(dict(query=Q))['result'])"
   ]
  },
  {
   "cell_type": "markdown",
   "id": "97fa780c",
   "metadata": {},
   "source": [
    "## Query the Data"
   ]
  },
  {
   "cell_type": "code",
   "execution_count": null,
   "id": "e02a7acb-99ac-48f8-b93c-d95a8f9e87d4",
   "metadata": {},
   "outputs": [
    {
     "name": "stdout",
     "output_type": "stream",
     "text": [
      "\n",
      "\n",
      "Is it a fair law and why ?\n",
      "\n",
      "As an AI language model, I don't have personal opinions or the ability to determine whether a law is fair or not. The concept of fairness is subjective and can vary depending on individual perspectives and societal values. It is up to individuals, legal experts, and society as a whole to debate and determine the fairness of a law based on various factors such as its adherence to human rights principles, its impact on different groups, and its alignment with societal values and goals.\n",
      "CPU times: user 62.1 ms, sys: 6.02 ms, total: 68.1 ms\n",
      "Wall time: 3.32 s\n"
     ]
    }
   ],
   "source": [
    "%%time\n",
    "Q = 'Is it a fair law and why ?'\n",
    "print(f'\\n\\n{Q}\\n')\n",
    "print(qabot(dict(query=Q))['result'])"
   ]
  },
  {
   "cell_type": "code",
   "execution_count": null,
   "id": "24dc85bd-cd35-4fb3-9d01-e00a896fd9a1",
   "metadata": {},
   "outputs": [
    {
     "name": "stdout",
     "output_type": "stream",
     "text": [
      "\n",
      "\n",
      "What are the rights and duties of the man, the citizen and the society ?\n",
      "\n",
      "According to the Declaration of the Rights of Man and of the Citizen of 1789, the rights and duties of man, citizen, and society are as follows:\n",
      "\n",
      "Rights of Man:\n",
      "1. Men are born and remain free and equal in rights. Social distinctions can only be based on common utility.\n",
      "2. The purpose of political association is the preservation of the natural and imprescriptible rights of man, which are liberty, property, security, and resistance to oppression.\n",
      "3. The principle of sovereignty resides essentially in the nation. No body or individual can exercise any authority that does not emanate expressly from the nation.\n",
      "4. Liberty consists of being able to do anything that does not harm others. The exercise of the natural rights of each man has no limits other than those that ensure the enjoyment of these same rights by other members of society. These limits can only be determined by law.\n",
      "5. The law has the right to prohibit only actions harmful to society. Anything not prohibited by law cannot be prevented, and no one can be compelled to do what it does not command.\n",
      "6. The law is the expression of the general will. All citizens have the right to personally participate, or through their representatives, in its formation. It must be the same for all, whether it protects or punishes. All citizens, being equal in its eyes, are equally eligible to all public dignities, positions, and employment, according to their abilities, and without any other distinction than that of their virtues and talents.\n",
      "7. No man can be accused, arrested, or detained except in cases determined by law and according to the forms it has prescribed. Those who solicit, expedite, execute, or cause to be executed arbitrary orders must be punished. But any citizen called or seized in virtue of the law must obey instantly; he makes himself guilty by resistance.\n",
      "8. The law should establish only strictly and obviously necessary penalties, and no one can be punished except in virtue of a law established and promulgated prior to the offense, and legally applied.\n",
      "9. Every man is presumed innocent until declared guilty. If it is deemed necessary to arrest him, any severity that is not necessary to ensure his person must be severely punished by law.\n",
      "10. No one should be disturbed for his opinions, even religious ones, provided that their manifestation does not disturb the established public order.\n",
      "11. The free communication of thoughts and opinions is one of the most precious rights of man. Every citizen can therefore speak, write, and print freely, except to answer for the abuse of this freedom in cases determined by law.\n",
      "12. The guarantee of the rights of man and of the citizen requires a public force. This force is therefore instituted for the advantage of all and not for the particular utility of those to whom it is entrusted.\n",
      "13. For the maintenance of the public force and for the expenses of administration, a common contribution is necessary. It must be equally distributed among all citizens, according to their abilities.\n",
      "14. All citizens have the right to ascertain, by themselves or through their representatives, the necessity of the public contribution, to consent to it freely, to follow its use, and to determine its amount, basis, collection, and duration.\n",
      "15. Society has the right to demand accountability from any public agent for his administration.\n",
      "16. Any society in which the guarantee of rights is not assured, nor the separation of powers determined, has no constitution.\n",
      "17. Property being an inviolable and sacred right, no one can be deprived of it, except when the public necessity, legally established, obviously requires it, and under the condition of a just and prior indemnity.\n",
      "\n",
      "Duties of the Citizen:\n",
      "The Declaration does not explicitly mention the duties of the citizen, but it emphasizes the importance of the citizen's participation in the formation of the law and the exercise of their rights in a responsible manner.\n",
      "\n",
      "Duties of Society:\n",
      "The Declaration does not explicitly mention the duties of society, but it emphasizes the importance of society in guaranteeing and protecting the rights of man and the citizen. Society is responsible for ensuring the preservation of individual rights and the separation of powers.\n",
      "CPU times: user 68.7 ms, sys: 6.04 ms, total: 74.8 ms\n",
      "Wall time: 21.3 s\n"
     ]
    }
   ],
   "source": [
    "%%time\n",
    "Q = 'What are the rights and duties of the man, the citizen and the society ?'\n",
    "print(f'\\n\\n{Q}\\n')\n",
    "print(qabot(dict(query=Q))['result'])"
   ]
  },
  {
   "cell_type": "code",
   "execution_count": null,
   "id": "d55b7980-a3d3-45d7-a310-99492edb098b",
   "metadata": {},
   "outputs": [
    {
     "name": "stdout",
     "output_type": "stream",
     "text": [
      "\n",
      "\n",
      "Is this law practical ?\n",
      "\n",
      "As an AI language model, I don't have personal opinions. Whether a law is practical or not is subjective and can vary depending on various factors such as the context, societal norms, and individual perspectives. The practicality of a law is often a matter of debate and can be influenced by its effectiveness in achieving its intended goals, its impact on individuals and society, and its compatibility with other laws and principles. It is ultimately up to legal experts, policymakers, and society as a whole to assess and determine the practicality of a law.\n",
      "CPU times: user 55.5 ms, sys: 5.46 ms, total: 61 ms\n",
      "Wall time: 3.51 s\n"
     ]
    }
   ],
   "source": [
    "%%time\n",
    "Q = 'Is this law practical ?'\n",
    "print(f'\\n\\n{Q}\\n')\n",
    "print(qabot(dict(query=Q))['result'])"
   ]
  },
  {
   "cell_type": "markdown",
   "id": "369a9206",
   "metadata": {},
   "source": [
    "## Clean up the Documents table"
   ]
  },
  {
   "cell_type": "code",
   "execution_count": null,
   "id": "cdddda29-e28d-423f-b1c6-f77d39acc3dd",
   "metadata": {},
   "outputs": [
    {
     "data": {
      "text/plain": [
       "True"
      ]
     },
     "execution_count": 14,
     "metadata": {},
     "output_type": "execute_result"
    }
   ],
   "source": [
    "# Clean up KDB.AI \"documents\" table and index for similarity search\n",
    "# so this notebook could be played again and again\n",
    "session.table('documents').drop()"
   ]
  },
  {
   "cell_type": "code",
   "execution_count": null,
   "id": "a0e45b1e-e8b2-455c-a085-dbd21e46396f",
   "metadata": {},
   "outputs": [],
   "source": []
  }
 ],
 "metadata": {
  "kernelspec": {
   "display_name": "Python 3 (ipykernel)",
   "language": "python",
   "name": "python3"
  },
  "language_info": {
   "codemirror_mode": {
    "name": "ipython",
    "version": 3
   },
   "file_extension": ".py",
   "mimetype": "text/x-python",
   "name": "python",
   "nbconvert_exporter": "python",
   "pygments_lexer": "ipython3",
   "version": "3.11.7"
  }
 },
 "nbformat": 4,
 "nbformat_minor": 5
}
