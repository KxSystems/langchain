{
 "cells": [
  {
   "cell_type": "code",
   "execution_count": 1,
   "id": "2704194d-c42d-463d-b162-fb95262e052c",
   "metadata": {},
   "outputs": [],
   "source": [
    "from getpass import getpass\n",
    "import os\n",
    "import time\n",
    "\n",
    "import pandas as pd\n",
    "import requests\n",
    "\n",
    "import kdbai_client as kdbai\n",
    "\n",
    "from langchain.chains import RetrievalQA\n",
    "from langchain.chat_models import ChatOpenAI\n",
    "from langchain.document_loaders import PyPDFLoader\n",
    "from langchain.embeddings import OpenAIEmbeddings\n",
    "from langchain.vectorstores import KDBAI"
   ]
  },
  {
   "cell_type": "code",
   "execution_count": 2,
   "id": "04848fcf-e128-4d63-af6c-b3991531d62e",
   "metadata": {},
   "outputs": [
    {
     "name": "stdin",
     "output_type": "stream",
     "text": [
      "KDB.AI endpoint:  https://ui.qa.cld.kx.com/instance/wpxy4fhbtr\n",
      "KDB.AI API key:  ········\n",
      "OpenAI API Key:  ········\n"
     ]
    }
   ],
   "source": [
    "KDBAI_ENDPOINT = input('KDB.AI endpoint: ')\n",
    "KDBAI_API_KEY = getpass('KDB.AI API key: ')\n",
    "os.environ['OPENAI_API_KEY'] = getpass('OpenAI API Key: ')"
   ]
  },
  {
   "cell_type": "code",
   "execution_count": 3,
   "id": "d08a1468-6bff-4a65-8b4a-9835cfa997ad",
   "metadata": {},
   "outputs": [],
   "source": [
    "TEMP = 0.0\n",
    "K = 3"
   ]
  },
  {
   "cell_type": "code",
   "execution_count": 4,
   "id": "9ffe4fee-2dc3-4943-917b-28adc3a69472",
   "metadata": {},
   "outputs": [
    {
     "name": "stdout",
     "output_type": "stream",
     "text": [
      "Create KDB.AI session...\n"
     ]
    }
   ],
   "source": [
    "print('Create KDB.AI session...')\n",
    "session = kdbai.Session(endpoint=KDBAI_ENDPOINT, api_key=KDBAI_API_KEY)"
   ]
  },
  {
   "cell_type": "code",
   "execution_count": 5,
   "id": "da27f31c-890e-46c0-8e01-1b8474ee3a70",
   "metadata": {},
   "outputs": [
    {
     "name": "stdout",
     "output_type": "stream",
     "text": [
      "Create table \"documents\"...\n"
     ]
    }
   ],
   "source": [
    "print('Create table \"documents\"...')\n",
    "schema = {'columns': [{'name': 'id', 'pytype': 'str'},\n",
    "                      {'name': 'text', 'pytype': 'bytes'},\n",
    "                      {'name': 'embeddings',\n",
    "                               'pytype': 'float32',\n",
    "                               'vectorIndex': {'dims': 1536, 'metric': 'L2', 'type': 'hnsw'}},\n",
    "                      {'name': 'tag', 'pytype': 'str'},\n",
    "                      {'name': 'title', 'pytype': 'bytes'}]}\n",
    "table = session.create_table('documents', schema)"
   ]
  },
  {
   "cell_type": "code",
   "execution_count": 6,
   "id": "930ba64a-1cf9-4892-9335-8745c830497c",
   "metadata": {},
   "outputs": [
    {
     "name": "stdout",
     "output_type": "stream",
     "text": [
      "CPU times: user 42 ms, sys: 6.25 ms, total: 48.2 ms\n",
      "Wall time: 222 ms\n"
     ]
    },
    {
     "data": {
      "text/plain": [
       "562978"
      ]
     },
     "execution_count": 6,
     "metadata": {},
     "output_type": "execute_result"
    }
   ],
   "source": [
    "%%time\n",
    "URL = 'https://www.conseil-constitutionnel.fr/node/3850/pdf'\n",
    "PDF = 'Déclaration_des_droits_de_l_homme_et_du_citoyen.pdf'\n",
    "open(PDF, 'wb').write(requests.get(URL).content)"
   ]
  },
  {
   "cell_type": "code",
   "execution_count": 7,
   "id": "00873e6b-f204-4dca-b82b-1c45d0b83ee5",
   "metadata": {},
   "outputs": [
    {
     "name": "stdout",
     "output_type": "stream",
     "text": [
      "Read PDF...\n",
      "CPU times: user 130 ms, sys: 12.8 ms, total: 143 ms\n",
      "Wall time: 146 ms\n"
     ]
    },
    {
     "data": {
      "text/plain": [
       "3"
      ]
     },
     "execution_count": 7,
     "metadata": {},
     "output_type": "execute_result"
    }
   ],
   "source": [
    "%%time\n",
    "print('Read PDF...')\n",
    "loader = PyPDFLoader(PDF)\n",
    "pages = loader.load_and_split()\n",
    "len(pages)"
   ]
  },
  {
   "cell_type": "code",
   "execution_count": 8,
   "id": "b06d4a96-c3d5-426b-9e22-12925b14e5e6",
   "metadata": {},
   "outputs": [
    {
     "name": "stdout",
     "output_type": "stream",
     "text": [
      "Create Vector DB from PDF text...\n",
      "CPU times: user 285 ms, sys: 30 ms, total: 315 ms\n",
      "Wall time: 1.98 s\n"
     ]
    }
   ],
   "source": [
    "%%time\n",
    "print('Create Vector DB from PDF text...')\n",
    "embeddings = OpenAIEmbeddings(model='text-embedding-ada-002')\n",
    "texts = [p.page_content for p in pages]\n",
    "metadata = pd.DataFrame(index=list(range(len(texts))))\n",
    "metadata['tag'] = 'law'\n",
    "metadata['title'] = 'Déclaration des Droits de l\\'Homme et du Citoyen de 1789'.encode('utf-8')\n",
    "vectordb = KDBAI.from_texts(session, 'documents', texts=texts, embedding=embeddings, metadata=metadata)"
   ]
  },
  {
   "cell_type": "code",
   "execution_count": 9,
   "id": "6d848577-1192-4bb0-b721-37f52be5d9d0",
   "metadata": {},
   "outputs": [
    {
     "name": "stdout",
     "output_type": "stream",
     "text": [
      "Create LangChain pipeline...\n",
      "CPU times: user 626 µs, sys: 7 µs, total: 633 µs\n",
      "Wall time: 634 µs\n"
     ]
    }
   ],
   "source": [
    "%%time\n",
    "print('Create LangChain pipeline...')\n",
    "qabot = RetrievalQA.from_chain_type(chain_type='stuff',\n",
    "                                    llm=ChatOpenAI(model='gpt-3.5-turbo-16k', temperature=TEMP), \n",
    "                                    retriever=vectordb.as_retriever(search_kwargs=dict(k=K)),\n",
    "                                    return_source_documents=True)"
   ]
  },
  {
   "cell_type": "code",
   "execution_count": 10,
   "id": "81668f8f-a416-4b58-93d2-8e0924ceca23",
   "metadata": {},
   "outputs": [
    {
     "name": "stdout",
     "output_type": "stream",
     "text": [
      "\n",
      "\n",
      "Summarize the document in English:\n",
      "\n",
      "The document is the Declaration of the Rights of Man and of the Citizen of 1789. It was written by the representatives of the French people and aims to declare the natural, inalienable, and sacred rights of every individual. These rights include freedom, property, security, and resistance to oppression. The document emphasizes the importance of equality and the principle that sovereignty resides in the nation. It also highlights the role of law in protecting individual rights and ensuring the common good. The document asserts the right to freedom of thought, expression, and communication, as well as the right to a fair trial and the presumption of innocence. It emphasizes the importance of public accountability and the need for a just and equitable distribution of public contributions. The document concludes by stating that any society without the guarantee of rights and the separation of powers does not have a constitution. It also recognizes the inviolable and sacred nature of property, with the exception of cases where public necessity requires it and just compensation is provided.\n",
      "CPU times: user 68.4 ms, sys: 7.5 ms, total: 75.9 ms\n",
      "Wall time: 8.29 s\n"
     ]
    }
   ],
   "source": [
    "%%time\n",
    "Q = 'Summarize the document in English:'\n",
    "print(f'\\n\\n{Q}\\n')\n",
    "print(qabot(dict(query=Q))['result'])"
   ]
  },
  {
   "cell_type": "code",
   "execution_count": 11,
   "id": "e02a7acb-99ac-48f8-b93c-d95a8f9e87d4",
   "metadata": {},
   "outputs": [
    {
     "name": "stdout",
     "output_type": "stream",
     "text": [
      "\n",
      "\n",
      "Is it a fair law and why ?\n",
      "\n",
      "As an AI language model, I don't have personal opinions. However, I can provide some analysis. The text provided is the Declaration of the Rights of Man and of the Citizen of 1789, which is considered a foundational document in the history of human rights. It asserts the principles of equality, freedom, and justice. Many consider it to be a fair law because it recognizes the inherent rights and freedoms of individuals and establishes the principles of a just society. However, the interpretation and application of these rights can vary, and opinions on the fairness of specific laws may differ.\n",
      "CPU times: user 70.3 ms, sys: 6.44 ms, total: 76.7 ms\n",
      "Wall time: 9.65 s\n"
     ]
    }
   ],
   "source": [
    "%%time\n",
    "Q = 'Is it a fair law and why ?'\n",
    "print(f'\\n\\n{Q}\\n')\n",
    "print(qabot(dict(query=Q))['result'])"
   ]
  },
  {
   "cell_type": "code",
   "execution_count": 12,
   "id": "24dc85bd-cd35-4fb3-9d01-e00a896fd9a1",
   "metadata": {},
   "outputs": [
    {
     "name": "stdout",
     "output_type": "stream",
     "text": [
      "\n",
      "\n",
      "What are the rights and duties of the man, the citizen and the society ?\n",
      "\n",
      "According to the Declaration of the Rights of Man and of the Citizen of 1789, the rights and duties of man, citizen, and society are as follows:\n",
      "\n",
      "Rights of Man:\n",
      "1. Men are born and remain free and equal in rights. Social distinctions can only be based on common utility.\n",
      "2. The purpose of political association is to protect the natural and imprescriptible rights of man, which include liberty, property, security, and resistance to oppression.\n",
      "3. Sovereignty resides essentially in the nation. No body or individual can exercise authority that does not emanate expressly from it.\n",
      "4. Freedom consists of being able to do anything that does not harm others. The exercise of natural rights of each man has no limits other than those that ensure the enjoyment of these same rights by other members of society. These limits can only be determined by law.\n",
      "5. The law has the right to prohibit only actions harmful to society. Anything not prohibited by law cannot be prevented, and no one can be compelled to do what it does not command.\n",
      "6. The law is the expression of the general will. All citizens have the right to personally participate, or through their representatives, in its formation. It must be the same for all, whether it protects or punishes. All citizens are equal in its eyes and are equally eligible to all public positions, according to their capacity, and without any other distinction than that of their virtues and talents.\n",
      "7. No man can be accused, arrested, or detained except in cases determined by law and according to the forms it has prescribed. Those who solicit, expedite, execute, or cause to be executed arbitrary orders must be punished. But any citizen called or seized in virtue of the law must obey instantly; he makes himself guilty by resistance.\n",
      "8. The law can only establish punishments that are strictly and obviously necessary, and no one can be punished except in virtue of a law established and promulgated prior to the offense, and legally applied.\n",
      "9. Every man is presumed innocent until declared guilty. If it is deemed necessary to arrest him, any severity that is not necessary to ensure his person must be severely punished by law.\n",
      "10. No one should be disturbed for his opinions, even religious ones, provided that their manifestation does not disturb the established public order.\n",
      "11. The free communication of thoughts and opinions is one of the most precious rights of man. Every citizen can therefore speak, write, and print freely, except to answer for the abuse of this freedom in cases determined by law.\n",
      "12. The guarantee of the rights of man and of the citizen requires a public force. This force is therefore instituted for the benefit of all and not for the particular utility of those to whom it is entrusted.\n",
      "13. For the maintenance of the public force and for the expenses of administration, a common contribution is necessary. It must be equally distributed among all citizens according to their means.\n",
      "14. All citizens have the right to ascertain, by themselves or through their representatives, the necessity of the public contribution, to consent to it freely, to follow its use, and to determine its amount, basis, collection, and duration.\n",
      "15. Society has the right to demand accountability from any public agent for his administration.\n",
      "16. Any society in which the guarantee of rights is not assured, nor the separation of powers determined, has no constitution.\n",
      "17. Property being an inviolable and sacred right, no one can be deprived of it, except when public necessity, legally established, obviously requires it, and under the condition of a just and prior indemnity.\n",
      "\n",
      "Duties of the Citizen:\n",
      "The Declaration does not explicitly mention the duties of the citizen, but it emphasizes the importance of the law and the responsibility of citizens to obey it. It also highlights the duty of citizens to participate in the formation of the law and to hold public agents accountable for their administration.\n",
      "\n",
      "Duties of Society:\n",
      "The Declaration does not explicitly mention the duties of society, but it emphasizes the need for a public force for the benefit of all and the necessity of a common contribution for the maintenance of this force and the expenses of administration. It also emphasizes the society's right to demand accountability from public agents for their administration.\n",
      "CPU times: user 67.9 ms, sys: 7.11 ms, total: 75 ms\n",
      "Wall time: 32.6 s\n"
     ]
    }
   ],
   "source": [
    "%%time\n",
    "Q = 'What are the rights and duties of the man, the citizen and the society ?'\n",
    "print(f'\\n\\n{Q}\\n')\n",
    "print(qabot(dict(query=Q))['result'])"
   ]
  },
  {
   "cell_type": "code",
   "execution_count": 13,
   "id": "d55b7980-a3d3-45d7-a310-99492edb098b",
   "metadata": {},
   "outputs": [
    {
     "name": "stdout",
     "output_type": "stream",
     "text": [
      "\n",
      "\n",
      "Is this law practical ?\n",
      "\n",
      "As an AI language model, I don't have personal opinions. Whether a law is practical or not is subjective and can depend on various factors such as the context, societal norms, and individual perspectives. It is up to legal experts, policymakers, and society as a whole to assess the practicality and effectiveness of a law based on its implementation and impact.\n",
      "CPU times: user 54.9 ms, sys: 7.52 ms, total: 62.4 ms\n",
      "Wall time: 4.54 s\n"
     ]
    }
   ],
   "source": [
    "%%time\n",
    "Q = 'Is this law practical ?'\n",
    "print(f'\\n\\n{Q}\\n')\n",
    "print(qabot(dict(query=Q))['result'])"
   ]
  },
  {
   "cell_type": "code",
   "execution_count": 14,
   "id": "cdddda29-e28d-423f-b1c6-f77d39acc3dd",
   "metadata": {},
   "outputs": [
    {
     "data": {
      "text/plain": [
       "True"
      ]
     },
     "execution_count": 14,
     "metadata": {},
     "output_type": "execute_result"
    }
   ],
   "source": [
    "# Clean up KDB.AI \"documents\" table and index for similarity search\n",
    "# so this notebook could be played again and again\n",
    "session.table('documents').drop()"
   ]
  },
  {
   "cell_type": "code",
   "execution_count": null,
   "id": "a0e45b1e-e8b2-455c-a085-dbd21e46396f",
   "metadata": {},
   "outputs": [],
   "source": []
  }
 ],
 "metadata": {
  "kernelspec": {
   "display_name": "Python 3",
   "language": "python",
   "name": "python3"
  },
  "language_info": {
   "codemirror_mode": {
    "name": "ipython",
    "version": 3
   },
   "file_extension": ".py",
   "mimetype": "text/x-python",
   "name": "python",
   "nbconvert_exporter": "python",
   "pygments_lexer": "ipython3",
   "version": "3.10.12"
  }
 },
 "nbformat": 4,
 "nbformat_minor": 5
}
